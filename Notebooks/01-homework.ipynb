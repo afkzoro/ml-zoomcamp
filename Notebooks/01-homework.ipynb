{
 "cells": [
  {
   "cell_type": "code",
   "execution_count": 4,
   "id": "6fa320ef-a610-443c-922c-00f6038bc24c",
   "metadata": {},
   "outputs": [
    {
     "data": {
      "text/plain": [
       "'2.2.3'"
      ]
     },
     "execution_count": 4,
     "metadata": {},
     "output_type": "execute_result"
    }
   ],
   "source": [
    "import pandas as pd\n",
    "pd.__version__"
   ]
  },
  {
   "cell_type": "code",
   "execution_count": 3,
   "id": "9d62e5ce-1057-43ab-b74c-763142ebef3e",
   "metadata": {},
   "outputs": [
    {
     "data": {
      "text/html": [
       "<div>\n",
       "<style scoped>\n",
       "    .dataframe tbody tr th:only-of-type {\n",
       "        vertical-align: middle;\n",
       "    }\n",
       "\n",
       "    .dataframe tbody tr th {\n",
       "        vertical-align: top;\n",
       "    }\n",
       "\n",
       "    .dataframe thead th {\n",
       "        text-align: right;\n",
       "    }\n",
       "</style>\n",
       "<table border=\"1\" class=\"dataframe\">\n",
       "  <thead>\n",
       "    <tr style=\"text-align: right;\">\n",
       "      <th></th>\n",
       "      <th>0</th>\n",
       "      <th>1</th>\n",
       "      <th>2</th>\n",
       "      <th>3</th>\n",
       "      <th>4</th>\n",
       "      <th>5</th>\n",
       "      <th>6</th>\n",
       "      <th>7</th>\n",
       "      <th>8</th>\n",
       "      <th>9</th>\n",
       "      <th>10</th>\n",
       "    </tr>\n",
       "  </thead>\n",
       "  <tbody>\n",
       "    <tr>\n",
       "      <th>0</th>\n",
       "      <td>engine_displacement</td>\n",
       "      <td>num_cylinders</td>\n",
       "      <td>horsepower</td>\n",
       "      <td>vehicle_weight</td>\n",
       "      <td>acceleration</td>\n",
       "      <td>model_year</td>\n",
       "      <td>origin</td>\n",
       "      <td>fuel_type</td>\n",
       "      <td>drivetrain</td>\n",
       "      <td>num_doors</td>\n",
       "      <td>fuel_efficiency_mpg</td>\n",
       "    </tr>\n",
       "    <tr>\n",
       "      <th>1</th>\n",
       "      <td>170</td>\n",
       "      <td>3</td>\n",
       "      <td>159</td>\n",
       "      <td>3413.433758606219</td>\n",
       "      <td>17.7</td>\n",
       "      <td>2003</td>\n",
       "      <td>Europe</td>\n",
       "      <td>Gasoline</td>\n",
       "      <td>All-wheel drive</td>\n",
       "      <td>0</td>\n",
       "      <td>13.231728906241411</td>\n",
       "    </tr>\n",
       "    <tr>\n",
       "      <th>2</th>\n",
       "      <td>130</td>\n",
       "      <td>5</td>\n",
       "      <td>97</td>\n",
       "      <td>3149.6649342200353</td>\n",
       "      <td>17.8</td>\n",
       "      <td>2007</td>\n",
       "      <td>USA</td>\n",
       "      <td>Gasoline</td>\n",
       "      <td>Front-wheel drive</td>\n",
       "      <td>0</td>\n",
       "      <td>13.688217435463793</td>\n",
       "    </tr>\n",
       "    <tr>\n",
       "      <th>3</th>\n",
       "      <td>170</td>\n",
       "      <td>NaN</td>\n",
       "      <td>78</td>\n",
       "      <td>3079.03899736884</td>\n",
       "      <td>15.1</td>\n",
       "      <td>2018</td>\n",
       "      <td>Europe</td>\n",
       "      <td>Gasoline</td>\n",
       "      <td>Front-wheel drive</td>\n",
       "      <td>0</td>\n",
       "      <td>14.246340998160866</td>\n",
       "    </tr>\n",
       "    <tr>\n",
       "      <th>4</th>\n",
       "      <td>220</td>\n",
       "      <td>4</td>\n",
       "      <td>NaN</td>\n",
       "      <td>2542.392401828378</td>\n",
       "      <td>20.2</td>\n",
       "      <td>2009</td>\n",
       "      <td>USA</td>\n",
       "      <td>Diesel</td>\n",
       "      <td>All-wheel drive</td>\n",
       "      <td>2</td>\n",
       "      <td>16.91273559598635</td>\n",
       "    </tr>\n",
       "  </tbody>\n",
       "</table>\n",
       "</div>"
      ],
      "text/plain": [
       "                    0              1           2                   3   \\\n",
       "0  engine_displacement  num_cylinders  horsepower      vehicle_weight   \n",
       "1                  170              3         159   3413.433758606219   \n",
       "2                  130              5          97  3149.6649342200353   \n",
       "3                  170            NaN          78    3079.03899736884   \n",
       "4                  220              4         NaN   2542.392401828378   \n",
       "\n",
       "             4           5       6          7                  8          9   \\\n",
       "0  acceleration  model_year  origin  fuel_type         drivetrain  num_doors   \n",
       "1          17.7        2003  Europe   Gasoline    All-wheel drive          0   \n",
       "2          17.8        2007     USA   Gasoline  Front-wheel drive          0   \n",
       "3          15.1        2018  Europe   Gasoline  Front-wheel drive          0   \n",
       "4          20.2        2009     USA     Diesel    All-wheel drive          2   \n",
       "\n",
       "                    10  \n",
       "0  fuel_efficiency_mpg  \n",
       "1   13.231728906241411  \n",
       "2   13.688217435463793  \n",
       "3   14.246340998160866  \n",
       "4    16.91273559598635  "
      ]
     },
     "execution_count": 3,
     "metadata": {},
     "output_type": "execute_result"
    }
   ],
   "source": [
    "pd.read_csv('car_fuel_efficiency.csv', header=None, nrows=5)"
   ]
  },
  {
   "cell_type": "code",
   "execution_count": 5,
   "id": "952bfd1f-8080-4220-82a3-baff8af72b2c",
   "metadata": {},
   "outputs": [],
   "source": [
    "df = pd.read_csv('car_fuel_efficiency.csv')"
   ]
  },
  {
   "cell_type": "code",
   "execution_count": 5,
   "id": "7e067f5e-b20a-4f39-923c-ff8db0fad307",
   "metadata": {},
   "outputs": [
    {
     "data": {
      "text/plain": [
       "9704"
      ]
     },
     "execution_count": 5,
     "metadata": {},
     "output_type": "execute_result"
    }
   ],
   "source": [
    "len(df)"
   ]
  },
  {
   "cell_type": "code",
   "execution_count": 6,
   "id": "3d3cbe63-8371-44d2-aaa3-f5c793b3dda6",
   "metadata": {},
   "outputs": [
    {
     "data": {
      "text/plain": [
       "2"
      ]
     },
     "execution_count": 6,
     "metadata": {},
     "output_type": "execute_result"
    }
   ],
   "source": [
    "df['fuel_type'].nunique()"
   ]
  },
  {
   "cell_type": "code",
   "execution_count": 7,
   "id": "d84fcb62-37dc-4042-8441-41d28bb84171",
   "metadata": {},
   "outputs": [
    {
     "data": {
      "text/plain": [
       "np.int64(4)"
      ]
     },
     "execution_count": 7,
     "metadata": {},
     "output_type": "execute_result"
    }
   ],
   "source": [
    "df.isnull().sum().gt(0).sum()"
   ]
  },
  {
   "cell_type": "code",
   "execution_count": 9,
   "id": "9c1cbf31-383d-418d-85ab-7c16b49f6a51",
   "metadata": {},
   "outputs": [
    {
     "data": {
      "text/plain": [
       "23.759122836520497"
      ]
     },
     "execution_count": 9,
     "metadata": {},
     "output_type": "execute_result"
    }
   ],
   "source": [
    "df[df['origin'] == 'Asia']['fuel_efficiency_mpg'].max()"
   ]
  },
  {
   "cell_type": "code",
   "execution_count": 6,
   "id": "d166f738-1872-475e-8199-eb252ec9f5a0",
   "metadata": {},
   "outputs": [],
   "source": [
    "# Initial median\n",
    "median_before = df['horsepower'].median()\n",
    "\n",
    "# Most frequent (mode)\n",
    "mode_val = df['horsepower'].mode()[0]\n",
    "\n",
    "# Fill NA with mode\n",
    "df['horsepower'] = df['horsepower'].fillna(mode_val)\n",
    "\n",
    "# New median\n",
    "median_after = df['horsepower'].median()\n"
   ]
  },
  {
   "cell_type": "code",
   "execution_count": 7,
   "id": "5de413ab-b29e-4433-9e05-2d455fa188d6",
   "metadata": {},
   "outputs": [
    {
     "data": {
      "text/plain": [
       "149.0"
      ]
     },
     "execution_count": 7,
     "metadata": {},
     "output_type": "execute_result"
    }
   ],
   "source": [
    "median_before"
   ]
  },
  {
   "cell_type": "code",
   "execution_count": 13,
   "id": "82d1ceed-4839-47a4-8019-b4fc6525eb87",
   "metadata": {},
   "outputs": [
    {
     "data": {
      "text/plain": [
       "np.float64(0.5187709081074008)"
      ]
     },
     "execution_count": 13,
     "metadata": {},
     "output_type": "execute_result"
    }
   ],
   "source": [
    "import numpy as np\n",
    "\n",
    "# Select Asian cars, only weight & model_year\n",
    "X = df[df['origin'] == 'Asia'][['vehicle_weight', 'model_year']].head(7).values\n",
    "\n",
    "# Compute XTX and inverse\n",
    "XTX = X.T.dot(X)\n",
    "XTX_inv = np.linalg.inv(XTX)\n",
    "\n",
    "# y values\n",
    "y = np.array([1100, 1300, 800, 900, 1000, 1100, 1200])\n",
    "\n",
    "# Compute w\n",
    "w = XTX_inv.dot(X.T).dot(y)\n",
    "\n",
    "# Sum of weights\n",
    "w.sum()"
   ]
  },
  {
   "cell_type": "code",
   "execution_count": 8,
   "id": "929935c5-56b4-4425-b980-1f177c8fe318",
   "metadata": {},
   "outputs": [
    {
     "data": {
      "text/plain": [
       "152.0"
      ]
     },
     "execution_count": 8,
     "metadata": {},
     "output_type": "execute_result"
    }
   ],
   "source": [
    "median_after"
   ]
  }
 ],
 "metadata": {
  "kernelspec": {
   "display_name": "Python 3 (ipykernel)",
   "language": "python",
   "name": "python3"
  },
  "language_info": {
   "codemirror_mode": {
    "name": "ipython",
    "version": 3
   },
   "file_extension": ".py",
   "mimetype": "text/x-python",
   "name": "python",
   "nbconvert_exporter": "python",
   "pygments_lexer": "ipython3",
   "version": "3.13.5"
  }
 },
 "nbformat": 4,
 "nbformat_minor": 5
}
